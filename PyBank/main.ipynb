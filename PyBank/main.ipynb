{
 "cells": [
  {
   "cell_type": "code",
   "execution_count": null,
   "metadata": {},
   "outputs": [],
   "source": [
    "import os\n",
    "import csv\n",
    "\n",
    "# Path to collect data from the Resources folder\n",
    "bank_csv = os.path.join('.', 'Resources', 'budget_data.csv')\n",
    "bank_csv\n"
   ]
  },
  {
   "cell_type": "code",
   "execution_count": 32,
   "metadata": {},
   "outputs": [
    {
     "name": "stdout",
     "output_type": "stream",
     "text": [
      "Number of Months is int(85)\n",
      "Net profit/loss is 37514694\n",
      "Greatest Increase in Profits Feb-2017 -755566\n",
      "Greatest Decrease in Profits Feb-2017 102685\n"
     ]
    }
   ],
   "source": [
    "with open(bank_csv, 'r') as csvfile:\n",
    "\n",
    "    # Split the data on commas\n",
    "    #csvreader = csv.reader(csvfile, delimiter=',')\n",
    "    csvreader = csv.DictReader(csvfile, delimiter=',')\n",
    "    \n",
    "    header = next(csvreader)\n",
    "    net_amount = 0\n",
    "    rowCount = 0\n",
    "    netProfitLoss = 0\n",
    "    greatestPLincrease = None\n",
    "    greatestPLdecrease = None\n",
    "    greatestDateDec = None\n",
    "    greatestDateInc = None\n",
    "    avePLchanges = 0\n",
    "    dateInc = None\n",
    "    dateDec = None\n",
    "\n",
    "    # Loop through the data\n",
    "    for row in csvreader:\n",
    "        rowCount +=1\n",
    "        dateInc = str(row[\"Date\"])\n",
    "        dateDec = str(row[\"Date\"])\n",
    "        PLInc = int(row[\"Profit/Losses\"])\n",
    "        PLDec = int(row[\"Profit/Losses\"])\n",
    "  \n",
    "        netProfitLoss = netProfitLoss + int(row[\"Profit/Losses\"])\n",
    "    #fix this math for both inc and dec and why is the date wrong\n",
    "        if greatestPLincrease == None or PLInc - greatestPLincrease  < greatestPLincrease:\n",
    "            greatestPLincrease = PLInc\n",
    "            greatestDateInc = dateInc\n",
    "            \n",
    "        if greatestPLdecrease == None or abs(greatestPLdecrease - PLDec) > PLDec:\n",
    "            greatestPLdecrease = PLDec\n",
    "            greatestDateDec = dateDec\n",
    "\n",
    "    print(f'Number of Months is int({rowCount})')\n",
    "    print(f\"Net profit/loss is {netProfitLoss}\")\n",
    "    \n",
    "    print(f'Greatest Increase in Profits {dateInc} {greatestPLincrease}')    \n",
    "    print(f'Greatest Decrease in Profits {dateDec} {greatestPLdecrease}')\n",
    "    \n",
    "    "
   ]
  },
  {
   "cell_type": "code",
   "execution_count": null,
   "metadata": {},
   "outputs": [],
   "source": []
  }
 ],
 "metadata": {
  "kernelspec": {
   "display_name": "Conda [PythonData]",
   "language": "python",
   "name": "pythondata"
  },
  "language_info": {
   "codemirror_mode": {
    "name": "ipython",
    "version": 3
   },
   "file_extension": ".py",
   "mimetype": "text/x-python",
   "name": "python",
   "nbconvert_exporter": "python",
   "pygments_lexer": "ipython3",
   "version": "3.7.3"
  }
 },
 "nbformat": 4,
 "nbformat_minor": 2
}
